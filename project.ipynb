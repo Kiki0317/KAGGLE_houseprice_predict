{
 "cells": [
  {
   "cell_type": "markdown",
   "metadata": {
    "_cell_guid": "e6335977-1dcb-a5bc-4856-184dd7bce3f9",
    "_uuid": "61f2473892351193d88cad035ebc4388cdb3151e"
   },
   "source": [
    "# MGTF 495A: Project 3\n",
    "# Housing Sale Price Prediction\n",
    "\n",
    "    .do some easy data preprocessing\n",
    "    .try to use pca to reduce feature dims"
   ]
  },
  {
   "cell_type": "code",
   "execution_count": null,
   "metadata": {
    "_cell_guid": "0d706811-b70c-aeab-a78b-3c7abd9978d3",
    "_uuid": "1f0aa4e21c63bf83b2902a2143b4a37bc2257d15"
   },
   "outputs": [],
   "source": [
    "import pandas as pd\n",
    "import numpy as np\n",
    "import seaborn as sns\n",
    "import matplotlib\n",
    "\n",
    "import matplotlib.pyplot as plt\n",
    "from scipy.stats import skew\n",
    "from scipy.stats.stats import pearsonr\n",
    "\n",
    "train = pd.read_csv(\"train.csv\")\n",
    "test = pd.read_csv(\"test.csv\")\n",
    "\n",
    "print(\"The train data size before dropping Id feature is : {} \".format(train.shape))\n",
    "print(\"The test data size before dropping Id feature is : {} \".format(test.shape))\n",
    "\n",
    "\n",
    "train_ID = train['ID']\n",
    "test_ID = test['ID']\n",
    "\n",
    "train.drop(\"ID\", axis = 1, inplace = True)\n",
    "test.drop(\"ID\", axis = 1, inplace = True)\n",
    "\n",
    "print(\"\\nThe train data size after dropping Id feature is : {} \".format(train.shape)) \n",
    "print(\"The test data size after dropping Id feature is : {} \".format(test.shape))\n",
    "\n",
    "\n",
    "train_columns = train.loc[:,'Paved Drive':'1stFloorArea'].columns\n",
    "test = test.loc[:,train_columns]\n",
    "test.head()\n",
    "all_data = pd.concat((train.loc[:,'Paved Drive':'1stFloorArea'],\n",
    "                      test.loc[:,'Paved Drive':'1stFloorArea']))\n",
    "matplotlib.rcParams['figure.figsize'] = (12.0, 6.0)\n",
    "prices = pd.DataFrame({\"price\":train[\"SalePrice\"], \"log(price + 1)\":np.log1p(train[\"SalePrice\"])})\n",
    "prices.hist()\n",
    "train[\"SalePrice\"] = np.log1p(train[\"SalePrice\"])\n",
    "\n",
    "\n",
    "numeric_feats = all_data.dtypes[all_data.dtypes != \"object\"].index\n",
    "\n",
    "skewed_feats = train[numeric_feats].apply(lambda x: skew(x.dropna())) #compute skewness\n",
    "skewed_feats = skewed_feats[skewed_feats > 0.75]\n",
    "skewed_feats = skewed_feats.index\n",
    "print('nums of skewed feature %s' %len(skewed_feats))\n",
    "\n",
    "all_data[skewed_feats] = np.log1p(all_data[skewed_feats])\n",
    "all_data = pd.get_dummies(all_data)\n",
    "all_data = all_data.fillna(all_data.mean())\n",
    "y = train.SalePrice\n",
    "\n",
    "\n"
   ]
  },
  {
   "cell_type": "code",
   "execution_count": 2,
   "metadata": {},
   "outputs": [],
   "source": [
    "#### read original data\n",
    "import pandas as pd\n",
    "import numpy as np\n",
    "import seaborn as sns\n",
    "import matplotlib\n",
    "\n",
    "import matplotlib.pyplot as plt\n",
    "from scipy.stats import skew\n",
    "from scipy.stats.stats import pearsonr\n",
    "X_train  = pd.read_csv(\"traindata.csv\")\n",
    "X_test = pd.read_csv(\"testdata.csv\")\n",
    "y=pd.read_csv(\"pricedata.csv\")\n",
    "all_data=pd.read_csv(\"finaldata.csv\")\n"
   ]
  },
  {
   "cell_type": "code",
   "execution_count": null,
   "metadata": {},
   "outputs": [],
   "source": [
    "X_train.shape"
   ]
  },
  {
   "cell_type": "code",
   "execution_count": 3,
   "metadata": {},
   "outputs": [
    {
     "name": "stderr",
     "output_type": "stream",
     "text": [
      "C:\\jupyter\\lib\\site-packages\\ipykernel_launcher.py:9: DataConversionWarning: A column-vector y was passed when a 1d array was expected. Please change the shape of y to (n_samples,), for example using ravel().\n",
      "  if __name__ == '__main__':\n"
     ]
    },
    {
     "name": "stdout",
     "output_type": "stream",
     "text": [
      "                        feature         score\n",
      "294                     Quality  5.744704e-01\n",
      "287                  LivingArea  9.481522e-02\n",
      "297               TotalBsmtArea  4.089964e-02\n",
      "270                1stFloorArea  3.735772e-02\n",
      "273             BsmtFinish1Area  2.590707e-02\n",
      "300                   YearBuilt  2.469058e-02\n",
      "289                  MasVnrArea  2.303610e-02\n",
      "288                     LotSize  1.724394e-02\n",
      "283                  GarageCars  1.426240e-02\n",
      "271                2ndFloorArea  1.366205e-02\n",
      "282                  GarageArea  1.146692e-02\n",
      "301              YearRemodelled  7.756905e-03\n",
      "26                BsmtHeight_Ex  6.453717e-03\n",
      "303                 LotFrontage  6.211049e-03\n",
      "281                   FullBaths  5.736022e-03\n",
      "292               OpenPorchArea  5.089205e-03\n",
      "284             GarageYearBuilt  5.022501e-03\n",
      "293               OverallRating  4.255677e-03\n",
      "277          BsmtUnfinishedArea  4.133408e-03\n",
      "157           KitchenQuality_Ex  3.777492e-03\n",
      "291                   MonthSold  3.679779e-03\n",
      "299                WoodDeckArea  3.064625e-03\n",
      "298                  TotalRooms  2.860079e-03\n",
      "280                  Fireplaces  2.800572e-03\n",
      "159           KitchenQuality_Gd  2.595097e-03\n",
      "272                    Bedrooms  1.629704e-03\n",
      "295             ScreenPorchArea  1.531964e-03\n",
      "269              ZoningClass_RM  1.501978e-03\n",
      "278               BuildingClass  1.497310e-03\n",
      "180        Neighborhood_Edwards  1.307606e-03\n",
      "..                          ...           ...\n",
      "43             Exterior1_CBlock  5.651493e-07\n",
      "124            GarageQuality_Po  4.379417e-07\n",
      "36             Electrical_FuseP  3.985135e-07\n",
      "72              ExteriorCond_Ex  3.866067e-07\n",
      "182         Neighborhood_Greens  2.416700e-07\n",
      "1              BsmtCondition_Ex  2.397382e-07\n",
      "37               Electrical_Mix  2.034150e-07\n",
      "220   ProximityToMainRoad2_RRNn  1.731627e-07\n",
      "214  ProximityToMainRoad2_Feedr  1.414530e-07\n",
      "59             Exterior2_CBlock  8.183568e-08\n",
      "111          GarageCondition_Ex  8.180701e-08\n",
      "219   ProximityToMainRoad2_RRAn  7.686752e-08\n",
      "262   UtilitiesAvailable_NoSewr  5.164313e-08\n",
      "40            Exterior1_AsphShn  1.548236e-08\n",
      "4              BsmtCondition_Po  8.685846e-09\n",
      "266         ZoningClass_I (all)  5.843364e-09\n",
      "223        RoofMaterial_Membran  3.867541e-09\n",
      "107              Functional_Sal  8.381407e-11\n",
      "249                SaleType_VWD  0.000000e+00\n",
      "46            Exterior1_ImStucc  0.000000e+00\n",
      "218   ProximityToMainRoad2_RRAe  0.000000e+00\n",
      "216   ProximityToMainRoad2_PosA  0.000000e+00\n",
      "33                 Electrical_0  0.000000e+00\n",
      "185        Neighborhood_Landmrk  0.000000e+00\n",
      "225           RoofMaterial_Roll  0.000000e+00\n",
      "160           KitchenQuality_Po  0.000000e+00\n",
      "49            Exterior1_PreCast  0.000000e+00\n",
      "142            HeatingType_OthW  0.000000e+00\n",
      "121            GarageQuality_Ex  0.000000e+00\n",
      "66            Exterior2_PreCast  0.000000e+00\n",
      "\n",
      "[304 rows x 2 columns]\n"
     ]
    }
   ],
   "source": [
    "#### select important features 50,100,150,200\n",
    "from sklearn.model_selection import train_test_split\n",
    "from sklearn.metrics import accuracy_score\n",
    "from sklearn.neighbors import KNeighborsClassifier\n",
    "from sklearn.ensemble import RandomForestRegressor\n",
    "x_train, x_test, y_train, y_test= train_test_split(X_train,y,test_size=0.2) \n",
    "x_train, x_valid, y_train, y_valid = train_test_split(x_train, y_train, test_size=0.2)\n",
    "reg2 = RandomForestRegressor(n_estimators=200)\n",
    "reg2.fit(x_train,y_train)\n",
    "imp=reg2.feature_importances_\n",
    "imp = pd.DataFrame({'feature': X_train.columns, 'score': imp})\n",
    "print(imp.sort_values(['score'], ascending=[0]))  \n",
    "imp = imp.sort_values(['score'], ascending=[0])\n",
    "select_feature50=imp['feature'][:50]\n",
    "xtrain_feature50=X_train.loc[:,select_feature50]\n",
    "xtest_feature50=X_test.loc[:,select_feature50]\n",
    "\n",
    "select_feature100=imp['feature'][:100]\n",
    "xtrain_feature100=X_train.loc[:,select_feature100]\n",
    "xtest_feature100=X_test.loc[:,select_feature100]\n",
    "\n",
    "select_feature150=imp['feature'][:150]\n",
    "xtrain_feature150=X_train.loc[:,select_feature150]\n",
    "xtest_feature150=X_test.loc[:,select_feature150]\n",
    "\n",
    "select_feature200=imp['feature'][:200]\n",
    "xtrain_feature200=X_train.loc[:,select_feature200]\n",
    "xtest_feature200=X_test.loc[:,select_feature200]"
   ]
  },
  {
   "cell_type": "code",
   "execution_count": 4,
   "metadata": {},
   "outputs": [],
   "source": [
    "select_feature20=imp['feature'][:20]\n",
    "xtrain_feature20=X_train.loc[:,select_feature20]\n",
    "xtest_feature20=X_test.loc[:,select_feature20]"
   ]
  },
  {
   "cell_type": "code",
   "execution_count": null,
   "metadata": {},
   "outputs": [],
   "source": [
    "from sklearn.decomposition import PCA\n",
    "pca = PCA(n_components=50)\n",
    "fit = pca.fit(all_data)\n",
    "alldata_pca = pca.transform(all_data)\n",
    "Xtrain_pca=alldata_pca[:X_train.shape[0]]\n",
    "Xtest_pca=alldata_pca[X_train.shape[0]:]"
   ]
  },
  {
   "cell_type": "code",
   "execution_count": null,
   "metadata": {},
   "outputs": [],
   "source": [
    "print(\"Explained Variance: %s\" % fit.explained_variance_ratio_)"
   ]
  },
  {
   "cell_type": "code",
   "execution_count": null,
   "metadata": {
    "scrolled": true
   },
   "outputs": [],
   "source": [
    "from sklearn.decomposition import PCA\n",
    "pca = PCA(n_components=50)\n",
    "fit = pca.fit(X_train)\n",
    "print(\"Explained Variance: %s\" % fit.explained_variance_ratio_)\n",
    "X_train_pca = pca.transform(X_train)\n",
    "X_test_pca = pca.transform(X_test)"
   ]
  },
  {
   "cell_type": "code",
   "execution_count": null,
   "metadata": {},
   "outputs": [],
   "source": [
    "X_train_pca.shape"
   ]
  },
  {
   "cell_type": "code",
   "execution_count": null,
   "metadata": {},
   "outputs": [],
   "source": [
    "X_test.shape"
   ]
  },
  {
   "cell_type": "markdown",
   "metadata": {
    "_cell_guid": "cc4e3014-23b7-2971-ddb0-f67b03f83558",
    "_uuid": "37a233b0d91c1ba7f3988809f5eaa689cc4d38dd"
   },
   "source": [
    "##### Models\n",
    "\n",
    "use 5-folders to select best model and evaluate them\n",
    "\n",
    "define a function that returns the cross-validation rmse error so we can evaluate our models and pick the best tuning parameter"
   ]
  },
  {
   "cell_type": "code",
   "execution_count": null,
   "metadata": {
    "_cell_guid": "82886739-eee6-5d7a-4be9-e1fe6ac059f1",
    "_uuid": "c59eb44559f736616201db712831987ce72e89bc"
   },
   "outputs": [],
   "source": [
    "######## cvs\n",
    "from sklearn.model_selection import cross_val_score\n",
    "from sklearn.ensemble import RandomForestRegressor\n",
    "\n",
    "def rmse_cv(model,X):\n",
    "    rmse= np.sqrt(-cross_val_score(model, X, y, scoring=\"neg_mean_squared_error\", cv = 10))\n",
    "    return(rmse)\n",
    "\n",
    "\n"
   ]
  },
  {
   "cell_type": "code",
   "execution_count": null,
   "metadata": {
    "scrolled": true
   },
   "outputs": [],
   "source": [
    "###### GSV tuning\n",
    "from sklearn.metrics import mean_squared_error\n",
    "from math import sqrt\n",
    "from sklearn.grid_search import GridSearchCV\n",
    "\n",
    "for N in range(10):\n",
    "    x_train, x_test, y_train, y_test= train_test_split(xtrain_feature20,y,test_size=0.2) \n",
    "    x_train, x_valid, y_train, y_valid = train_test_split(x_train, y_train, test_size=0.2)\n",
    "    reg = RandomForestRegressor(n_estimators=400)\n",
    "    param_grid = { 'n_estimators': [400],}\n",
    "    CV_rfc = GridSearchCV(estimator=reg, param_grid=param_grid, cv= 10)\n",
    "    CV_rfc.fit(x_train, y_train)\n",
    "    Pred2=CV_rfc.predict(x_test)\n",
    "    mse2=mean_squared_error(y_test, Pred2)\n",
    "    rmse2=sqrt(mse2)\n",
    "    score=CV_rfc.best_params_\n",
    "    R[N]=rmse2\n",
    "    S[N]=score\n",
    "\n",
    "##########\n"
   ]
  },
  {
   "cell_type": "code",
   "execution_count": null,
   "metadata": {},
   "outputs": [],
   "source": [
    "x_train.shape"
   ]
  },
  {
   "cell_type": "code",
   "execution_count": null,
   "metadata": {
    "scrolled": false
   },
   "outputs": [],
   "source": [
    "from sklearn.metrics import mean_squared_error\n",
    "from math import sqrt\n",
    "from sklearn.grid_search import GridSearchCV\n",
    "import numpy as np\n",
    "P=np.zeros(879,)\n",
    "R=[]\n",
    "S=[]\n",
    "n_range=[0,1,2,3,4,5,6,7,8,9]\n",
    "for N in n_range:\n",
    "    x_train, x_test, y_train, y_test= train_test_split(xtrain_feature20,y,test_size=0.2) \n",
    "    x_train, x_valid, y_train, y_valid = train_test_split(x_train, y_train, test_size=0.2)\n",
    "    reg = RandomForestRegressor(n_estimators=400)\n",
    "    param_grid = { 'n_estimators': [200],}\n",
    "    CV_rfc = GridSearchCV(estimator=reg, param_grid=param_grid, cv= 10)\n",
    "    CV_rfc.fit(x_train, y_train)\n",
    "    Pred2=CV_rfc.predict(x_test)\n",
    "    mse2=mean_squared_error(y_test, Pred2)\n",
    "    rmse2=sqrt(mse2)\n",
    "    score=CV_rfc.best_params_\n",
    "    R[N]=rmse2\n",
    "    S[N]=score\n",
    "    pred_final=CV_rfc.predict(xtest_feature20)\n",
    "    P=np.vstack((P,pred_final))\n",
    "    "
   ]
  },
  {
   "cell_type": "code",
   "execution_count": 14,
   "metadata": {},
   "outputs": [
    {
     "name": "stderr",
     "output_type": "stream",
     "text": [
      "C:\\jupyter\\lib\\site-packages\\sklearn\\cross_validation.py:1675: DataConversionWarning: A column-vector y was passed when a 1d array was expected. Please change the shape of y to (n_samples,), for example using ravel().\n",
      "  estimator.fit(X_train, y_train, **fit_params)\n",
      "C:\\jupyter\\lib\\site-packages\\sklearn\\cross_validation.py:1675: DataConversionWarning: A column-vector y was passed when a 1d array was expected. Please change the shape of y to (n_samples,), for example using ravel().\n",
      "  estimator.fit(X_train, y_train, **fit_params)\n",
      "C:\\jupyter\\lib\\site-packages\\sklearn\\cross_validation.py:1675: DataConversionWarning: A column-vector y was passed when a 1d array was expected. Please change the shape of y to (n_samples,), for example using ravel().\n",
      "  estimator.fit(X_train, y_train, **fit_params)\n",
      "C:\\jupyter\\lib\\site-packages\\sklearn\\cross_validation.py:1675: DataConversionWarning: A column-vector y was passed when a 1d array was expected. Please change the shape of y to (n_samples,), for example using ravel().\n",
      "  estimator.fit(X_train, y_train, **fit_params)\n",
      "C:\\jupyter\\lib\\site-packages\\sklearn\\cross_validation.py:1675: DataConversionWarning: A column-vector y was passed when a 1d array was expected. Please change the shape of y to (n_samples,), for example using ravel().\n",
      "  estimator.fit(X_train, y_train, **fit_params)\n",
      "C:\\jupyter\\lib\\site-packages\\sklearn\\cross_validation.py:1675: DataConversionWarning: A column-vector y was passed when a 1d array was expected. Please change the shape of y to (n_samples,), for example using ravel().\n",
      "  estimator.fit(X_train, y_train, **fit_params)\n",
      "C:\\jupyter\\lib\\site-packages\\sklearn\\cross_validation.py:1675: DataConversionWarning: A column-vector y was passed when a 1d array was expected. Please change the shape of y to (n_samples,), for example using ravel().\n",
      "  estimator.fit(X_train, y_train, **fit_params)\n",
      "C:\\jupyter\\lib\\site-packages\\sklearn\\cross_validation.py:1675: DataConversionWarning: A column-vector y was passed when a 1d array was expected. Please change the shape of y to (n_samples,), for example using ravel().\n",
      "  estimator.fit(X_train, y_train, **fit_params)\n",
      "C:\\jupyter\\lib\\site-packages\\sklearn\\cross_validation.py:1675: DataConversionWarning: A column-vector y was passed when a 1d array was expected. Please change the shape of y to (n_samples,), for example using ravel().\n",
      "  estimator.fit(X_train, y_train, **fit_params)\n",
      "C:\\jupyter\\lib\\site-packages\\sklearn\\cross_validation.py:1675: DataConversionWarning: A column-vector y was passed when a 1d array was expected. Please change the shape of y to (n_samples,), for example using ravel().\n",
      "  estimator.fit(X_train, y_train, **fit_params)\n",
      "C:\\jupyter\\lib\\site-packages\\sklearn\\grid_search.py:620: DataConversionWarning: A column-vector y was passed when a 1d array was expected. Please change the shape of y to (n_samples,), for example using ravel().\n",
      "  best_estimator.fit(X, y, **self.fit_params)\n"
     ]
    }
   ],
   "source": [
    "from sklearn.metrics import mean_squared_error\n",
    "from math import sqrt\n",
    "from sklearn.grid_search import GridSearchCV\n",
    "x_train, x_test, y_train, y_test= train_test_split(xtrain_feature20,y,test_size=0.05) \n",
    "x_train, x_valid, y_train, y_valid = train_test_split(x_train, y_train, test_size=0.05)\n",
    "reg = RandomForestRegressor(n_estimators=400)\n",
    "param_grid = { 'n_estimators': [400],}\n",
    "CV_rfc = GridSearchCV(estimator=reg, param_grid=param_grid, cv= 10)\n",
    "CV_rfc.fit(x_train, y_train)\n",
    "Pred5=CV_rfc.predict(x_test)\n",
    "mse5=mean_squared_error(y_test, Pred5)\n",
    "rmse5=sqrt(mse5)\n",
    "pred_1=CV_rfc.predict(xtest_feature20)\n",
    "\n",
    "\n",
    " "
   ]
  },
  {
   "cell_type": "code",
   "execution_count": 33,
   "metadata": {},
   "outputs": [],
   "source": [
    "from sklearn.svm import SVC\n",
    "x_train, x_test, y_train, y_test= train_test_split(xtrain_feature100,y,test_size=0.05) \n",
    "x_train, x_valid, y_train, y_valid = train_test_split(x_train, y_train, test_size=0.05)\n",
    "clf=SVC(kernel='rbf')\n",
    "param_grid01 = {'C': [ 1], 'gamma':[0.001] }\n",
    "svc_cv=GridSearchCV(estimator=clf, param_grid=param_grid01, cv= 10)\n"
   ]
  },
  {
   "cell_type": "code",
   "execution_count": 36,
   "metadata": {},
   "outputs": [
    {
     "name": "stderr",
     "output_type": "stream",
     "text": [
      "C:\\jupyter\\lib\\site-packages\\sklearn\\cross_validation.py:553: Warning: The least populated class in y has only 1 members, which is too few. The minimum number of labels for any class cannot be less than n_folds=10.\n",
      "  % (min_labels, self.n_folds)), Warning)\n"
     ]
    }
   ],
   "source": [
    "svc_cv.fit(x_train, y_train)\n",
    "Pred6=svc_cv.predict(x_test)\n",
    "mse6=mean_squared_error(y_test, Pred6)\n",
    "rmse6=sqrt(mse6)\n",
    "pred_2=svc_cv.predict(xtest_feature100)"
   ]
  },
  {
   "cell_type": "code",
   "execution_count": 35,
   "metadata": {},
   "outputs": [],
   "source": [
    "y_train=y_train.values\n",
    "c, r = y_train.shape\n",
    "y_train = y_train.reshape(c,)"
   ]
  },
  {
   "cell_type": "code",
   "execution_count": 37,
   "metadata": {},
   "outputs": [
    {
     "data": {
      "text/plain": [
       "85350.71944640782"
      ]
     },
     "execution_count": 37,
     "metadata": {},
     "output_type": "execute_result"
    }
   ],
   "source": [
    "rmse6"
   ]
  },
  {
   "cell_type": "code",
   "execution_count": 31,
   "metadata": {},
   "outputs": [],
   "source": [
    "pred_1=pd.DataFrame(pred_1)\n",
    "pred_1.to_csv('result26781.csv',index=False)"
   ]
  },
  {
   "cell_type": "code",
   "execution_count": null,
   "metadata": {},
   "outputs": [],
   "source": [
    "x_train, x_test, y_train, y_test= train_test_split(xtrain_feature150,y,test_size=0.2) \n",
    "x_train, x_valid, y_train, y_valid = train_test_split(x_train, y_train, test_size=0.2)\n",
    "reg = RandomForestRegressor(n_estimators=100)\n",
    "from sklearn.grid_search import GridSearchCV\n",
    "param_grid = { \n",
    "    'n_estimators': [200,500,800],\n",
    "}\n",
    "CV_rfc = GridSearchCV(estimator=reg, param_grid=param_grid, cv= 10)\n",
    "CV_rfc.fit(x_train, y_train)\n",
    "Pred4=CV_rfc.predict(x_test)\n",
    "mse4=mean_squared_error(y_test, Pred4)\n",
    "rmse4=sqrt(mse4)"
   ]
  },
  {
   "cell_type": "code",
   "execution_count": null,
   "metadata": {
    "scrolled": true
   },
   "outputs": [],
   "source": [
    "x_train, x_test, y_train, y_test= train_test_split(xtrain_feature30,y,test_size=0.2) \n",
    "x_train, x_valid, y_train, y_valid = train_test_split(x_train, y_train, test_size=0.2)\n",
    "reg = RandomForestRegressor(n_estimators=100)\n",
    "from sklearn.grid_search import GridSearchCV\n",
    "param_grid = { \n",
    "    'n_estimators': [200,500,800],\n",
    "}\n",
    "CV_rfc = GridSearchCV(estimator=reg, param_grid=param_grid, cv= 10)\n",
    "CV_rfc.fit(x_train, y_train)\n",
    "Pred5=CV_rfc.predict(x_test)\n",
    "mse5=mean_squared_error(y_test, Pred5)\n",
    "rmse5=sqrt(mse5)"
   ]
  },
  {
   "cell_type": "code",
   "execution_count": null,
   "metadata": {},
   "outputs": [],
   "source": [
    "import numpy as np\n",
    "R=np.zeros(10,10)"
   ]
  },
  {
   "cell_type": "code",
   "execution_count": null,
   "metadata": {},
   "outputs": [],
   "source": [
    "import numpy as np\n",
    "R=np.zeros((10,10))\n",
    "n_range=range(1,6)\n",
    "k_range=[180,200,220,250,270]\n",
    "for N in n_range:\n",
    "    b=0\n",
    "    for K in k_range:\n",
    "        pca = PCA(n_components=K)\n",
    "        fit = pca.fit(all_data)\n",
    "        alldata_pca = pca.transform(all_data)\n",
    "        Xtrain_pca=alldata_pca[:train.shape[0]]\n",
    "        x_train, x_test, y_train, y_test= train_test_split(Xtrain_pca,y,test_size=0.2) \n",
    "        x_train, x_valid, y_train, y_valid = train_test_split(x_train, y_train, test_size=0.2)\n",
    "        reg2 = RandomForestRegressor(n_estimators =200)\n",
    "        reg2.fit(x_train,y_train)\n",
    "        Pred2=reg2.predict(x_test)\n",
    "        mse2=mean_squared_error(y_test, Pred2)\n",
    "        rmse2=sqrt(mse2)\n",
    "        R[N][b]=rmse2\n",
    "        b=b+1\n",
    "        print(str(N)+' '+str(K))\n",
    "\n",
    "        \n",
    "    \n"
   ]
  },
  {
   "cell_type": "code",
   "execution_count": null,
   "metadata": {},
   "outputs": [],
   "source": [
    "R"
   ]
  },
  {
   "cell_type": "code",
   "execution_count": null,
   "metadata": {},
   "outputs": [],
   "source": [
    "     \n",
    "pca = PCA(n_components=300)\n",
    "fit = pca.fit(all_data)\n",
    "alldata_pca = pca.transform(all_data)\n",
    "Xtrain_pca=alldata_pca[:train.shape[0]]\n",
    "Xtest_pca=alldata_pca[train.shape[0]:] \n",
    "x_train, x_test, y_train, y_test= train_test_split(Xtrain_pca,y,test_size=0.2) \n",
    "x_train, x_valid, y_train, y_valid = train_test_split(x_train, y_train, test_size=0.2)\n",
    "reg2 = RandomForestRegressor(n_estimators =200)\n",
    "reg2.fit(x_train,y_train)\n",
    "Pred2=reg2.predict(x_test)\n",
    "mse2=mean_squared_error(y_test, Pred2)\n",
    "rmse2=sqrt(mse2)"
   ]
  },
  {
   "cell_type": "code",
   "execution_count": null,
   "metadata": {},
   "outputs": [],
   "source": [
    "rmse2"
   ]
  },
  {
   "cell_type": "code",
   "execution_count": null,
   "metadata": {},
   "outputs": [],
   "source": [
    "x_train, x_test, y_train, y_test= train_test_split(X_train,y,test_size=0.2) \n",
    "x_train, x_valid, y_train, y_valid = train_test_split(x_train, y_train, test_size=0.2)\n",
    "reg2 = RandomForestRegressor(n_estimators =200)\n",
    "reg2.fit(x_train,y_train)\n",
    "Pred2=reg2.predict(x_test)\n",
    "mse2=mean_squared_error(y_test, Pred2)\n",
    "rmse2=sqrt(mse2)"
   ]
  },
  {
   "cell_type": "code",
   "execution_count": null,
   "metadata": {},
   "outputs": [],
   "source": [
    "y_pred=reg2.predict(X_test)\n"
   ]
  },
  {
   "cell_type": "code",
   "execution_count": null,
   "metadata": {},
   "outputs": [],
   "source": [
    "y_pred.describe()"
   ]
  },
  {
   "cell_type": "code",
   "execution_count": null,
   "metadata": {},
   "outputs": [],
   "source": [
    "y_pred=pd.DataFrame(y_pred)\n",
    "y_pred.to_csv('result26781.csv',index=False)"
   ]
  },
  {
   "cell_type": "code",
   "execution_count": null,
   "metadata": {
    "scrolled": true
   },
   "outputs": [],
   "source": [
    "x_train, x_test, y_train, y_test= train_test_split(X_train,y,test_size=0.2) \n",
    "x_train, x_valid, y_train, y_valid = train_test_split(x_train, y_train, test_size=0.2)\n",
    "reg = RandomForestRegressor(n_estimators=200)\n",
    "from sklearn.grid_search import GridSearchCV\n",
    "param_grid = { \n",
    "    'n_estimators': [200,500,800,1200],\n",
    "}\n",
    "CV_rfc = GridSearchCV(estimator=reg, param_grid=param_grid, cv= 10)\n",
    "CV_rfc.fit(x_train, y_train)\n",
    "\n",
    "print('parameter'+CV_rfc.best_params_)\n",
    "print('score'+CV_rfc.best_score_)"
   ]
  },
  {
   "cell_type": "code",
   "execution_count": null,
   "metadata": {
    "scrolled": true
   },
   "outputs": [],
   "source": []
  },
  {
   "cell_type": "code",
   "execution_count": null,
   "metadata": {
    "scrolled": true
   },
   "outputs": [],
   "source": [
    "###### GSV tuning\n",
    "x_train, x_test, y_train, y_test= train_test_split(xtrain_feature,y,test_size=0.2) \n",
    "x_train, x_valid, y_train, y_valid = train_test_split(x_train, y_train, test_size=0.2)\n",
    "reg = RandomForestRegressor(n_estimators=100)\n",
    "from sklearn.grid_search import GridSearchCV\n",
    "param_grid = { \n",
    "    'n_estimators': [200,500,800],\n",
    "}\n",
    "CV_rfc = GridSearchCV(estimator=reg, param_grid=param_grid, cv= 10)\n",
    "CV_rfc.fit(x_train, y_train)"
   ]
  },
  {
   "cell_type": "code",
   "execution_count": null,
   "metadata": {},
   "outputs": [],
   "source": [
    "y_pred=CV_rfc.predict(x_test)\n",
    "mse2=mean_squared_error(y_test, y_pred)\n",
    "rmse2=sqrt(mse2)\n",
    "rmse2"
   ]
  },
  {
   "cell_type": "code",
   "execution_count": null,
   "metadata": {},
   "outputs": [],
   "source": [
    "print(CV_rfc.best_score_)"
   ]
  },
  {
   "cell_type": "code",
   "execution_count": null,
   "metadata": {},
   "outputs": [],
   "source": [
    "from sklearn.neighbors import KNeighborsClassifier\n",
    "knn=KNeighborsClassifier(n_neighbors=5)\n",
    "knn.fit(X_train,y)\n",
    "y_pred=knn.predict(Xtest)\n",
    "y_pred_final = np.expm1(y_pred)\n",
    "sub = pd.DataFrame()\n",
    "sub['Id'] = test_ID\n",
    "sub['SalePrice'] = y_pred_final\n",
    "sub.to_csv('submission.csv',index=False)\n",
    "mse2=mean_squared_error(y, y_pred)\n",
    "rmse2=sqrt(mse2)\n",
    "rmse2"
   ]
  },
  {
   "cell_type": "code",
   "execution_count": null,
   "metadata": {},
   "outputs": [],
   "source": [
    "best_model = RandomForestRegressor(n_estimators=100)\n",
    "best_model.fit(X_train,y)"
   ]
  },
  {
   "cell_type": "code",
   "execution_count": null,
   "metadata": {},
   "outputs": [],
   "source": [
    "y_pred = best_model.predict(X_test)"
   ]
  },
  {
   "cell_type": "markdown",
   "metadata": {},
   "source": [
    "## bring back the result of log1p"
   ]
  },
  {
   "cell_type": "code",
   "execution_count": null,
   "metadata": {},
   "outputs": [],
   "source": [
    "y_pred_final = np.expm1(y_pred)"
   ]
  },
  {
   "cell_type": "code",
   "execution_count": null,
   "metadata": {},
   "outputs": [],
   "source": []
  },
  {
   "cell_type": "markdown",
   "metadata": {},
   "source": [
    "## submission"
   ]
  },
  {
   "cell_type": "code",
   "execution_count": null,
   "metadata": {},
   "outputs": [],
   "source": [
    "# create submission file\n",
    "sub = pd.DataFrame()\n",
    "sub['Id'] = test_ID\n",
    "sub['SalePrice'] = y_pred_final\n",
    "sub.to_csv('submission333.csv',index=False)"
   ]
  },
  {
   "cell_type": "code",
   "execution_count": null,
   "metadata": {},
   "outputs": [],
   "source": [
    "################from franky\n",
    "data1=Xtrain_pca\n",
    "data3=y\n",
    "test=Xtest_pca"
   ]
  },
  {
   "cell_type": "code",
   "execution_count": null,
   "metadata": {},
   "outputs": [],
   "source": [
    "from sklearn.model_selection import train_test_split\n",
    "from sklearn.metrics import accuracy_score\n",
    "from sklearn.neighbors import KNeighborsClassifier\n",
    "from sklearn.ensemble import RandomForestRegressor\n",
    "from sklearn.decomposition import PCA\n",
    "from sklearn.metrics import mean_squared_error\n",
    "from math import sqrt\n",
    "\n",
    "from sklearn.feature_selection import SelectKBest, f_classif"
   ]
  },
  {
   "cell_type": "code",
   "execution_count": null,
   "metadata": {},
   "outputs": [],
   "source": [
    "import pandas as pd\n",
    "import numpy as np\n",
    "import seaborn as sns\n",
    "import matplotlib\n",
    "\n",
    "import matplotlib.pyplot as plt\n",
    "from scipy.stats import skew\n",
    "from scipy.stats.stats import pearsonr"
   ]
  },
  {
   "cell_type": "code",
   "execution_count": null,
   "metadata": {},
   "outputs": [],
   "source": [
    "\n",
    "\n",
    "reg = RandomForestRegressor(n_estimators =200,criterion='mse')\n",
    "reg.fit(Xtrain_pca,y)\n",
    "Pred1=reg.predict(Xtrain_pca)\n",
    "\n",
    "mse1=mean_squared_error(y, Pred1)\n",
    "\n",
    "\n",
    "rmse1=sqrt(mse1)\n"
   ]
  },
  {
   "cell_type": "code",
   "execution_count": null,
   "metadata": {},
   "outputs": [],
   "source": [
    "rmse1"
   ]
  },
  {
   "cell_type": "code",
   "execution_count": null,
   "metadata": {},
   "outputs": [],
   "source": []
  },
  {
   "cell_type": "code",
   "execution_count": null,
   "metadata": {},
   "outputs": [],
   "source": [
    "\n",
    "y_pred1=reg.predict(Xtest_pca)\n",
    "y_pred_final1 = np.expm1(y_pred1)"
   ]
  },
  {
   "cell_type": "code",
   "execution_count": null,
   "metadata": {},
   "outputs": [],
   "source": [
    "sub = pd.DataFrame()\n",
    "sub['Id'] = test_ID\n",
    "sub['SalePrice'] = y_pred_final1\n",
    "sub.to_csv('submission7.csv',index=False)"
   ]
  }
 ],
 "metadata": {
  "_change_revision": 0,
  "_is_fork": false,
  "kernelspec": {
   "display_name": "Python 3",
   "language": "python",
   "name": "python3"
  },
  "language_info": {
   "codemirror_mode": {
    "name": "ipython",
    "version": 3
   },
   "file_extension": ".py",
   "mimetype": "text/x-python",
   "name": "python",
   "nbconvert_exporter": "python",
   "pygments_lexer": "ipython3",
   "version": "3.6.4"
  },
  "varInspector": {
   "cols": {
    "lenName": 16,
    "lenType": 16,
    "lenVar": 40
   },
   "kernels_config": {
    "python": {
     "delete_cmd_postfix": "",
     "delete_cmd_prefix": "del ",
     "library": "var_list.py",
     "varRefreshCmd": "print(var_dic_list())"
    },
    "r": {
     "delete_cmd_postfix": ") ",
     "delete_cmd_prefix": "rm(",
     "library": "var_list.r",
     "varRefreshCmd": "cat(var_dic_list()) "
    }
   },
   "types_to_exclude": [
    "module",
    "function",
    "builtin_function_or_method",
    "instance",
    "_Feature"
   ],
   "window_display": false
  }
 },
 "nbformat": 4,
 "nbformat_minor": 1
}
